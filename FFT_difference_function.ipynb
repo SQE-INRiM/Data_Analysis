{
 "cells": [
  {
   "cell_type": "code",
   "execution_count": 2,
   "metadata": {},
   "outputs": [],
   "source": [
    "import numpy as np\n",
    "import matplotlib.pyplot as plt\n",
    "import xarray as xr"
   ]
  },
  {
   "cell_type": "code",
   "execution_count": 3,
   "metadata": {},
   "outputs": [],
   "source": [
    "#Dovrebbe funzionare\n",
    "\n",
    "#Calculates the fft and returns the optimal frequency for the moving average window\n",
    "\n",
    "def fft_on_diff(profile: xr.core.dataarray.DataArray, \n",
    "                average: np.ndarray):\n",
    "    '''\n",
    "    Function that takes the difference between the original profile and the smoothed one with moving average as input,\n",
    "    computes its fft and returns the fft maximum and its correspondent time in order to choose the best window.\n",
    "    '''\n",
    "    #Calcoliamo la differenza\n",
    "    diff_profile = profile-average\n",
    "\n",
    "    #calcoliamo la trasformata\n",
    "    fft = np.fft.fft(diff_profile)\n",
    "    magnitude = np.abs(fft)\n",
    "\n",
    "    #dare un range per le x\n",
    "    frequencies = np.linspace(0.4e10, 1.2e10, len(diff_profile))\n",
    "    time = frequencies\n",
    "    dt = np.mean(np.diff(time))\n",
    "\n",
    "    fft_frequencies = np.fft.fftfreq(len(diff_profile), d=dt)\n",
    "\n",
    "    #plots\n",
    "    fig, ax = plt.subplots(2, 1, figsize=[10, 5], dpi=200)\n",
    "\n",
    "    #difference plot\n",
    "    ax[0].plot(time, diff_profile, color=\"red\", label=\"Profile minus average\")\n",
    "    ax[0].set_xlabel(\"Frequency (Hz)\") \n",
    "    ax[0].set_ylabel(\"|S21| / dB\")\n",
    "    ax[0].legend()\n",
    "    ax[0].grid()\n",
    "\n",
    "    #fft plot\n",
    "    ax[1].plot(fft_frequencies[fft_frequencies >= 0], \n",
    "            magnitude[fft_frequencies >= 0], \n",
    "            color='blue', label=\"FFT\")\n",
    "    ax[1].set_xlabel(\"Time (s)\")\n",
    "    ax[1].set_ylabel(\"Magnitude\")\n",
    "    ax[1].legend()\n",
    "    ax[1].grid()\n",
    "\n",
    "    fig.tight_layout()\n",
    "    plt.show()\n",
    "\n",
    "    #Find maximum\n",
    "    max_fft = np.max(magnitude[fft_frequencies >= 0])\n",
    "    max_time = fft_frequencies[fft_frequencies > 0][np.argmax(magnitude[fft_frequencies >= 0])]\n",
    "    ind_max = np.argmax(magnitude[fft_frequencies >= 0])\n",
    "\n",
    "    print(f'Massimo\\np0: {max_fft}\\nTime: {max_time} s\\nIndice del massimo: {ind_max}')\n",
    "\n",
    "    prop = max_fft/max_time\n",
    "\n",
    "    print(f\"Prodotto = {prop}\\nFreq = {1/max_time} Hz\\n\")\n",
    "\n",
    "    return max_fft, 1/max_time "
   ]
  }
 ],
 "metadata": {
  "kernelspec": {
   "display_name": "base",
   "language": "python",
   "name": "python3"
  },
  "language_info": {
   "codemirror_mode": {
    "name": "ipython",
    "version": 3
   },
   "file_extension": ".py",
   "mimetype": "text/x-python",
   "name": "python",
   "nbconvert_exporter": "python",
   "pygments_lexer": "ipython3",
   "version": "3.11.7"
  }
 },
 "nbformat": 4,
 "nbformat_minor": 2
}
