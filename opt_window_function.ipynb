{
 "cells": [
  {
   "cell_type": "code",
   "execution_count": null,
   "metadata": {},
   "outputs": [],
   "source": [
    "import numpy as np\n",
    "import matplotlib.pyplot as plt\n",
    "import xarray as xr"
   ]
  },
  {
   "cell_type": "code",
   "execution_count": null,
   "metadata": {},
   "outputs": [],
   "source": [
    "#takes as input argument the profile for the computation of fft\n",
    "\n",
    "def fft_for_window(profile: xr.core.dataarray.DataArray, \n",
    "                   step=16e6, #distance on the frequency axis\n",
    "                   min_band=4e9, \n",
    "                   max_band=6e9,\n",
    "                   perc_off=0.1): #percentage of data to discard, crescendo should have 0.2\n",
    "    \n",
    "    lim_inf = profile[profile[\"Frequency\"].data >= min_band]\n",
    "    lim = lim_inf[lim_inf[\"Frequency\"].data <= max_band]\n",
    "\n",
    "    #compute fft\n",
    "    fft = np.fft.fft(lim)\n",
    "    magnitude = np.abs(fft)\n",
    "\n",
    "    #x axis range\n",
    "    frequencies = np.linspace(min_band, max_band, len(lim))\n",
    "    time = frequencies\n",
    "    dt = np.mean(np.diff(time))\n",
    "    fft_frequencies = np.fft.fftfreq(len(lim), d=dt)\n",
    "\n",
    "\n",
    "    #calculate max(fft) and frequency\n",
    "    massimo_trasf = np.max(magnitude[int(perc_off*len(fft_frequencies)//2):len(fft_frequencies)//2])\n",
    "    i0 = np.argmax(magnitude[int(perc_off*len(fft_frequencies)//2):len(fft_frequencies)//2])\n",
    "    freq_trasf = 1/fft_frequencies[int(perc_off*len(fft_frequencies)//2):len(fft_frequencies)//2][i0]\n",
    "    print(f\"Max(fft) = {massimo_trasf}\\nTime = {1/freq_trasf}\\nFreq = {freq_trasf}\")\n",
    "\n",
    "    #find window\n",
    "    window_opt = (int(2*freq_trasf/step) if int(2*freq_trasf/step)%2 == 1 else int(2*freq_trasf/step)-1)\n",
    "\n",
    "\n",
    "    fig, ax = plt.subplots(2, 1, figsize=[10, 5], dpi=200)\n",
    "\n",
    "    #profile plot\n",
    "    ax[0].plot(time, lim, color=\"red\", label=\"Profile\")\n",
    "    ax[0].set_xlabel(\"Frequency (Hz)\") \n",
    "    ax[0].set_ylabel(\"|S21| / dB\")\n",
    "    ax[0].legend()\n",
    "    ax[0].grid()\n",
    "\n",
    "    #fft plot\n",
    "    ax[1].plot(fft_frequencies[int(perc_off*len(fft_frequencies)//2):len(fft_frequencies)//2], magnitude[int(perc_off*len(fft_frequencies)//2):len(fft_frequencies)//2])\n",
    "    ax[1].set_xlabel(\"Time (s)\")\n",
    "    ax[1].set_ylabel(\"Magnitude\")\n",
    "    ax[1].legend()\n",
    "    ax[1].grid()\n",
    "\n",
    "    fig.tight_layout()\n",
    "    plt.show()\n",
    "\n",
    "    return window_opt, massimo_trasf, freq_trasf\n"
   ]
  }
 ],
 "metadata": {
  "language_info": {
   "name": "python"
  }
 },
 "nbformat": 4,
 "nbformat_minor": 2
}
