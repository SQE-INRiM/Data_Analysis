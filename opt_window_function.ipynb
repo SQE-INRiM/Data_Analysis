{
 "cells": [
  {
   "cell_type": "code",
   "execution_count": null,
   "metadata": {},
   "outputs": [],
   "source": [
    "import numpy as np\n",
    "import matplotlib.pyplot as plt\n",
    "import xarray as xr"
   ]
  },
  {
   "cell_type": "code",
   "execution_count": null,
   "metadata": {},
   "outputs": [],
   "source": [
    "#takes as input argument the profile for the computation of fft\n",
    "\n",
    "def fft_for_window(profile: xr.core.dataarray.DataArray, \n",
    "                   step=16e6, #distance on the frequency axis\n",
    "                   perc_off=0.1): #percentage of data to discard\n",
    "    \n",
    "    #find pump frequency and the max_index\n",
    "    #otteniamo la frequenza di pompa\n",
    "    pump = profile[\"Pump frequency\"].data\n",
    "\n",
    "    #Move 200 MHz to the left and find the max of the left region\n",
    "    cut = pump-200e6\n",
    "    massimo_sx = np.argmax(profile.data[profile[\"Frequency\"].data <= cut])\n",
    "    max_freq = profile[\"Frequency\"].data[massimo_sx]\n",
    "\n",
    "    lim_sup = profile[profile[\"Frequency\"].data <= max_freq]\n",
    "    lim = lim_sup[lim_sup[\"Frequency\"].data >= max_freq-1e9]\n",
    "\n",
    "    #compute fft\n",
    "    fft = np.fft.fft(lim)\n",
    "    magnitude = np.abs(fft)\n",
    "\n",
    "    #x axis range\n",
    "    frequencies = np.linspace(max_freq-1e9, max_freq, len(lim))\n",
    "    time = frequencies\n",
    "    dt = np.mean(np.diff(time))\n",
    "    fft_frequencies = np.fft.fftfreq(len(lim), d=dt)\n",
    "\n",
    "\n",
    "    #calculate max(fft) and frequency\n",
    "    massimo_trasf = np.max(magnitude[int(perc_off*len(fft_frequencies)//2):len(fft_frequencies)//2])\n",
    "    i0 = np.argmax(magnitude[int(perc_off*len(fft_frequencies)//2):len(fft_frequencies)//2])\n",
    "    freq_trasf = 1/fft_frequencies[int(perc_off*len(fft_frequencies)//2):len(fft_frequencies)//2][i0]\n",
    "    print(f\"Max(fft) = {massimo_trasf}\\nTime = {1/freq_trasf} s\\nFreq = {freq_trasf} Hz\")\n",
    "\n",
    "    #find window\n",
    "    window_opt = (int(2*freq_trasf/step) if int(2*freq_trasf/step)%2 == 1 else int(2*freq_trasf/step)-1)\n",
    "\n",
    "\n",
    "    fig, ax = plt.subplots(2, 1, figsize=[10, 5], dpi=200)\n",
    "\n",
    "    #profile plot\n",
    "    ax[0].plot(time, lim, color=\"red\", label=\"Profile\")\n",
    "    ax[0].set_xlabel(\"Frequency (Hz)\") \n",
    "    ax[0].set_ylabel(\"|S21| / dB\")\n",
    "    ax[0].legend()\n",
    "    ax[0].grid()\n",
    "\n",
    "    #fft plot\n",
    "    ax[1].plot(fft_frequencies[int(perc_off*len(fft_frequencies)//2):len(fft_frequencies)//2], magnitude[int(perc_off*len(fft_frequencies)//2):len(fft_frequencies)//2], label=\"FFT\")\n",
    "    ax[1].set_xlabel(\"Time (s)\")\n",
    "    ax[1].set_ylabel(\"Magnitude\")\n",
    "    ax[1].legend()\n",
    "    ax[1].grid()\n",
    "\n",
    "    fig.tight_layout()\n",
    "    plt.show()\n",
    "\n",
    "    return window_opt, massimo_trasf, freq_trasf\n"
   ]
  }
 ],
 "metadata": {
  "language_info": {
   "name": "python"
  }
 },
 "nbformat": 4,
 "nbformat_minor": 2
}
