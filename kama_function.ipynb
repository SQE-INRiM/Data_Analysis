{
 "cells": [
  {
   "cell_type": "code",
   "execution_count": null,
   "metadata": {},
   "outputs": [],
   "source": [
    "import numpy as np"
   ]
  },
  {
   "cell_type": "code",
   "execution_count": null,
   "metadata": {},
   "outputs": [],
   "source": [
    "# KAUFMAN ADAPTIVE MOVING AVERAGE #\n",
    "\n",
    "def calculate_kama(data, period=10, fast_end=2, slow_end=30):\n",
    "    # Convert fast and slow periods in smoothing constants\n",
    "    fast_sc = 2 / (fast_end + 1)\n",
    "    slow_sc = 2 / (slow_end + 1)\n",
    "    \n",
    "    # Initialize KAMA array\n",
    "    kama = np.zeros(len(data))\n",
    "    kama[0] = data[0]  # Set the initial value of KAMA to the first data point\n",
    "    \n",
    "    for i in range(1, len(data)):\n",
    "        # Efficiency Ratio (ER)\n",
    "        change = abs(data[i] - data[i - period] if i >= period else data[i] - data[0])\n",
    "        volatility = sum(abs(data[j] - data[j - 1]) for j in range(max(1, i - period + 1), i + 1))\n",
    "        er = change / volatility if volatility != 0 else 0\n",
    "        \n",
    "        # Smoothing Constant (SC)\n",
    "        sc = (er * (fast_sc - slow_sc) + slow_sc) ** 2\n",
    "        \n",
    "        # Calculate KAMA\n",
    "        kama[i] = kama[i - 1] + sc * (data[i] - kama[i - 1])\n",
    "\n",
    "    return kama"
   ]
  }
 ],
 "metadata": {
  "language_info": {
   "name": "python"
  }
 },
 "nbformat": 4,
 "nbformat_minor": 2
}
