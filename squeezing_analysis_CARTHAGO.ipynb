{
 "cells": [
  {
   "cell_type": "code",
   "execution_count": null,
   "metadata": {},
   "outputs": [],
   "source": [
    "import numpy as np\n",
    "import matplotlib as plt\n",
    "import matplotlib.pyplot as plt\n",
    "import h5py\n",
    "import cmath\n",
    "import pandas as pd\n",
    "from matplotlib.colors import ListedColormap, TwoSlopeNorm\n",
    "from scipy.linalg import det, inv\n",
    "from scipy.constants import h\n",
    "from scipy.constants import k as k_B\n",
    "from mpl_toolkits.axes_grid1.inset_locator import inset_axes\n",
    "from matplotlib.colors import Normalize\n",
    "from matplotlib.colors import LinearSegmentedColormap\n",
    "from mpl_toolkits.mplot3d import Axes3D\n",
    "import matplotlib.cm as cm\n",
    "import squeezing_library as sqz\n",
    "import json\n",
    "from scipy.optimize import minimize\n",
    "import csv"
   ]
  },
  {
   "cell_type": "code",
   "execution_count": null,
   "metadata": {},
   "outputs": [],
   "source": [
    "def str_to_arr(filename, dataset):\n",
    "    '''\n",
    "    Converts the data strings in the csv file to numpy arrays\n",
    "    '''\n",
    "    csv.field_size_limit(10**7)\n",
    "    modified_rows = []\n",
    "\n",
    "    #Open the csv file\n",
    "    with open(filename, newline='') as csvfile:\n",
    "        reader = csv.DictReader(csvfile)\n",
    "\n",
    "        #We need to remove the '[' charachter\n",
    "        for row in reader:\n",
    "            #We need to consider every column that is stored as string\n",
    "            row['signal_pump_on_real'] = row['signal_pump_on_real'].replace(row['signal_pump_on_real'][0], \"\").replace(row['signal_pump_on_real'][-1], \"\")\n",
    "            row[\"signal_pump_on_imag\"] = row['signal_pump_on_imag'].replace(row['signal_pump_on_imag'][0], \"\").replace(row['signal_pump_on_imag'][-1], \"\")\n",
    "            row['signal_pump_off_real'] = row['signal_pump_off_real'].replace(row['signal_pump_off_real'][0], \"\").replace(row['signal_pump_off_real'][-1], \"\")\n",
    "            row['signal_pump_off_imag'] = row['signal_pump_off_imag'].replace(row['signal_pump_off_imag'][0], \"\").replace(row['signal_pump_off_imag'][-1], \"\")\n",
    "            row['idler_pump_on_real'] = row['idler_pump_on_real'].replace(row['idler_pump_on_real'][0], \"\").replace(row['idler_pump_on_real'][-1], \"\")\n",
    "            row[\"idler_pump_on_imag\"] = row['idler_pump_on_imag'].replace(row['idler_pump_on_imag'][0], \"\").replace(row['idler_pump_on_imag'][-1], \"\")\n",
    "            row['idler_pump_off_real'] = row['idler_pump_off_real'].replace(row['idler_pump_off_real'][0], \"\").replace(row['idler_pump_off_real'][-1], \"\")\n",
    "            row['idler_pump_off_imag'] = row['idler_pump_off_imag'].replace(row['idler_pump_off_imag'][0], \"\").replace(row['idler_pump_off_imag'][-1], \"\")\n",
    "            modified_rows.append(row)\n",
    "\n",
    "    #New rows without the brackets\n",
    "    dataset[\"signal_pump_on_real\"] = [row[\"signal_pump_on_real\"] for row in modified_rows]\n",
    "    dataset[\"signal_pump_on_imag\"] = [row[\"signal_pump_on_imag\"] for row in modified_rows]\n",
    "    dataset[\"signal_pump_off_real\"] = [row[\"signal_pump_off_real\"] for row in modified_rows]\n",
    "    dataset[\"signal_pump_off_imag\"] = [row[\"signal_pump_off_imag\"] for row in modified_rows]\n",
    "    dataset[\"idler_pump_on_real\"] = [row[\"idler_pump_on_real\"] for row in modified_rows]\n",
    "    dataset[\"idler_pump_off_real\"] = [row[\"idler_pump_off_real\"] for row in modified_rows]\n",
    "    dataset[\"idler_pump_on_imag\"] = [row[\"idler_pump_on_imag\"] for row in modified_rows]\n",
    "    dataset[\"idler_pump_off_imag\"] = [row[\"idler_pump_off_imag\"] for row in modified_rows]\n",
    "\n",
    "    #Convert the strings into float\n",
    "    dataset['signal_pump_on_real'] = dataset['signal_pump_on_real'].apply(lambda x: np.array([float(num) for num in x.split(',')]))\n",
    "    dataset['signal_pump_on_imag'] = dataset['signal_pump_on_imag'].apply(lambda x: np.array([float(num) for num in x.split(',')]))\n",
    "    dataset['signal_pump_off_real'] = dataset['signal_pump_off_real'].apply(lambda x: np.array([float(num) for num in x.split(',')]))\n",
    "    dataset['signal_pump_off_imag'] = dataset['signal_pump_off_imag'].apply(lambda x: np.array([float(num) for num in x.split(',')]))\n",
    "    dataset['idler_pump_on_real'] = dataset['idler_pump_on_real'].apply(lambda x: np.array([float(num) for num in x.split(',')]))\n",
    "    dataset['idler_pump_on_imag'] = dataset['idler_pump_on_imag'].apply(lambda x: np.array([float(num) for num in x.split(',')]))\n",
    "    dataset['idler_pump_off_real'] = dataset['idler_pump_off_real'].apply(lambda x: np.array([float(num) for num in x.split(',')]))\n",
    "    dataset['idler_pump_off_imag'] = dataset['idler_pump_off_imag'].apply(lambda x: np.array([float(num) for num in x.split(',')]))\n",
    "\n",
    "    return dataset"
   ]
  },
  {
   "cell_type": "code",
   "execution_count": null,
   "metadata": {},
   "outputs": [],
   "source": [
    "# Funzione per applicare il modulo 2pi\n",
    "def modulo_2pi(x):\n",
    "    return (x + np.pi) % (2 * np.pi) - np.pi  # Modulo 2pi, risultato nell'intervallo [-pi, pi]"
   ]
  },
  {
   "cell_type": "code",
   "execution_count": null,
   "metadata": {},
   "outputs": [],
   "source": [
    "# Funzione per applicare il modulo 2pi\n",
    "def modulo_pi(x):\n",
    "    return (x + np.pi/2) % (np.pi) - np.pi/2  # Modulo 2pi, risultato nell'intervallo [-pi, pi]"
   ]
  },
  {
   "cell_type": "code",
   "execution_count": null,
   "metadata": {},
   "outputs": [],
   "source": [
    "# Funzione per applicare il modulo pi/4\n",
    "def modulo_pi_4(x):\n",
    "    return (x + np.pi / 4) % (np.pi / 2) - np.pi / 4  # Modulo pi/4, risultato nell'intervallo [-pi/4, pi/4]\n"
   ]
  },
  {
   "cell_type": "code",
   "execution_count": null,
   "metadata": {},
   "outputs": [],
   "source": [
    "# Funzione per applicare il modulo pi/4\n",
    "def modulo_pi_2(x):\n",
    "    return (x + np.pi / 2) % (np.pi ) - np.pi / 2  # Modulo pi/4, risultato nell'intervallo [-pi/4, pi/4]"
   ]
  },
  {
   "cell_type": "code",
   "execution_count": null,
   "metadata": {},
   "outputs": [],
   "source": [
    " # for each quadrature, using iq function, we reconstruct sqz.iq quadrature at dut output level\n",
    "def iq_at_dut(R_on: np.ndarray,\n",
    "              R_off: np.ndarray,\n",
    "              volt: bool, #true if the output needs to be in volts\n",
    "              f,\n",
    "              G,\n",
    "              tau,\n",
    "              Z): #parameters for the sqz.iq function, list (or arrays) of 2 elements\n",
    "    R_on_dut = []\n",
    "    R_off_dut = []\n",
    "    if volt:\n",
    "        for p in range(4):\n",
    "            if p < 2:\n",
    "                R_on_dut.append(sqz.iq(R_on[p]*1.6, f[0], G[0], tau, Z))\n",
    "                R_off_dut.append(sqz.iq(R_off[p]*1.6, f[0], G[0], tau, Z))\n",
    "            else:\n",
    "                R_on_dut.append(sqz.iq(R_on[p]*1.6, f[1], G[1], tau, Z))\n",
    "                R_off_dut.append(sqz.iq(R_off[p]*1.6, f[1], G[1], tau, Z))\n",
    "    else:\n",
    "        for p in range(4):\n",
    "            if p < 2:\n",
    "                R_on_dut.append(sqz.iq(R_on[p], f[0], G[0], tau, Z))\n",
    "                R_off_dut.append(sqz.iq(R_off[p], f[0], G[0], tau, Z))\n",
    "            else:\n",
    "                R_on_dut.append(sqz.iq(R_on[p], f[1], G[1], tau, Z))\n",
    "                R_off_dut.append(sqz.iq(R_off[p], f[1], G[1], tau, Z))\n",
    "\n",
    "    return R_on_dut, R_off_dut"
   ]
  },
  {
   "cell_type": "code",
   "execution_count": null,
   "metadata": {},
   "outputs": [],
   "source": [
    "#2d histograms\n",
    "def new_hist(R_on, R_off, nbins: int, bin_edges: np.ndarray, norm, x_mode1: bool, p_mode1: bool, x_mode2: bool, p_mode2: bool, tick):\n",
    "    # Map of modes (x and p) for each case\n",
    "    modes = [(x_mode1, '$x_{s}$', '$\\\\bar{x}_{s}$', R_on[0], R_off[0]), \n",
    "             (p_mode1, '$p_{s}$', '$\\\\bar{p}_{s}$', R_on[1], R_off[1]),\n",
    "             (x_mode2, '$x_{i}$', '$\\\\bar{x}_{i}$', R_on[2], R_off[2]),\n",
    "             (p_mode2, '$p_{i}$', '$\\\\bar{p}_{i}$', R_on[3], R_off[3])]\n",
    "    \n",
    "    # Initialize the variables\n",
    "    #alpha = [x_mode1, p_mode1, x_mode2, p_mode2]\n",
    "    c = 0\n",
    "    x, y = [], []\n",
    "    #x_mean_on, x_mean_off, y_mean_on, y_mean_off = 0, 0, 0, 0\n",
    "\n",
    "    # For loop to check which modes to use for 2d histogram\n",
    "    for mode, name, mean_name, R_on_mode, R_off_mode in modes:\n",
    "        if mode:\n",
    "            if c == 0:\n",
    "                x_name = name\n",
    "                #x_mean_name = mean_name\n",
    "                #x_mean_on, x_mean_off = np.mean(R_on_mode), np.mean(R_off_mode)\n",
    "                x = np.concatenate([R_on_mode, R_off_mode])\n",
    "                c = 1\n",
    "            else:\n",
    "                y_name = name\n",
    "                #y_mean_name = mean_name\n",
    "                #y_mean_on, y_mean_off = np.mean(R_on_mode), np.mean(R_off_mode)\n",
    "                y = np.concatenate([R_on_mode, R_off_mode])\n",
    "    \n",
    "    # Create the histogram\n",
    "    g = plt.hist2d(\n",
    "        x, \n",
    "        y, \n",
    "        weights=np.concatenate([np.ones(len(R_on[0]))/(len(R_on[0]))*100, -np.ones(len(R_on[0]))/(len(R_on[0]))*100]),\n",
    "        bins=(nbins, nbins), \n",
    "        range=(bin_edges, bin_edges), \n",
    "        cmap='bwr', \n",
    "        norm=norm\n",
    "    )\n",
    "\n",
    "    # Axes settings\n",
    "    plt.xlabel(x_name, fontsize=15)\n",
    "    plt.ylabel(y_name, fontsize=15)\n",
    "    plt.tick_params(axis='both', labelsize=12)\n",
    "    plt.xticks(np.arange(bin_edges[0], bin_edges[1] + 1, tick))\n",
    "    plt.yticks(np.arange(bin_edges[0], bin_edges[1] + 1, tick))\n",
    "\n",
    "    return g\n",
    "\n",
    "#cosa fa di diverso da prima?\n",
    "#Abbiamo mappato le variabili (x_mode1, p_mode1, etc.) in una lista chiamata modes, \n",
    "#che contiene tuple con i dati e le etichette associate. Questo consente di evitare la duplicazione di codice \n",
    "#e facilita la gestione delle modalità.\n",
    "#Utilizziamo np.concatenate per unire gli array R_on_mode e R_off_mode invece di usare \n",
    "#[*R_on[i], *R_off[i]], che è più efficiente e più chiaro."
   ]
  },
  {
   "cell_type": "markdown",
   "metadata": {},
   "source": [
    "This is the data analysis of a two mode squeezing experiment in a Traveling Wave Parametric Amplifier."
   ]
  },
  {
   "cell_type": "markdown",
   "metadata": {},
   "source": [
    "Import data\n",
    "-----------------"
   ]
  },
  {
   "cell_type": "code",
   "execution_count": null,
   "metadata": {},
   "outputs": [],
   "source": [
    "import pandas as pd\n",
    "import xarray as xr\n",
    "\n",
    "# Carica il file CSV in un DataFrame di pandas\n",
    "#df = pd.read_csv(r\"I:\\Drive condivisi\\SuperQuElectronics\\Simulations, Code and Data Analysis - MADE by SQE\\Python\\QCS\\Data Analysis\\CARTHAGO SW2401010B - Squeezing analysis3.csv\")\n",
    "df = pd.read_csv(r\"Data/CARTHAGO SW2401010B - Squeezing analysis3.csv\")\n",
    "# Converti il DataFrame in un xarray DataArray o Dataset\n",
    "# Supponiamo che tu voglia creare un Dataset con le colonne del DataFrame\n",
    "# Le righe del CSV diventeranno le dimensioni\n",
    "#data_array = xr.DataArray(df.values, coords=[df.index, df.columns], dims=[\"row\", \"col\"])\n",
    "\n",
    "# Oppure, se vuoi creare un Dataset con più variabili (colonne)\n",
    "#dataset = xr.Dataset.from_dataframe(df)"
   ]
  },
  {
   "cell_type": "code",
   "execution_count": null,
   "metadata": {},
   "outputs": [],
   "source": [
    "df"
   ]
  },
  {
   "cell_type": "code",
   "execution_count": null,
   "metadata": {},
   "outputs": [],
   "source": [
    "frequencies = np.array((df[\"Pump frequency\"]))\n",
    "pump_dig_phase = np.array(np.radians(df[\"pump_dig_phase\"]))"
   ]
  },
  {
   "cell_type": "code",
   "execution_count": null,
   "metadata": {},
   "outputs": [],
   "source": [
    "print(pump_dig_phase)"
   ]
  },
  {
   "cell_type": "code",
   "execution_count": null,
   "metadata": {},
   "outputs": [],
   "source": [
    "print(frequencies)"
   ]
  },
  {
   "cell_type": "code",
   "execution_count": null,
   "metadata": {},
   "outputs": [],
   "source": [
    "df = str_to_arr(r\"Data/CARTHAGO SW2401010B - Squeezing analysis3.csv\", df)"
   ]
  },
  {
   "cell_type": "code",
   "execution_count": null,
   "metadata": {},
   "outputs": [],
   "source": [
    "print(type(df[\"signal_pump_on_real\"].iloc[0]))\n",
    "print(len(df[\"signal_pump_on_real\"].iloc[0]))\n",
    "df"
   ]
  },
  {
   "cell_type": "markdown",
   "metadata": {},
   "source": [
    "Searching angle $\\theta$ which maximizes squeezing"
   ]
  },
  {
   "cell_type": "code",
   "execution_count": null,
   "metadata": {},
   "outputs": [],
   "source": [
    "theta_array = np.zeros(len(frequencies))\n",
    "file_csv = 'gains.csv'\n",
    "tau = 6e-6\n",
    "Z = 50\n",
    "\n",
    "for i in range(len(frequencies)):\n",
    "    I_s_off_or = df[\"signal_pump_off_real\"].iloc[i]\n",
    "    Q_s_off_or = df[\"signal_pump_off_imag\"].iloc[i]\n",
    "    I_s_on_or = df[\"signal_pump_on_real\"].iloc[i]\n",
    "    Q_s_on_or = df[\"signal_pump_on_imag\"].iloc[i]\n",
    "    I_i_on_or = df[\"idler_pump_on_real\"].iloc[i]\n",
    "    Q_i_on_or = df[\"idler_pump_on_imag\"].iloc[i]\n",
    "    I_i_off_or = df[\"idler_pump_off_real\"].iloc[i]\n",
    "    Q_i_off_or = df[\"idler_pump_off_imag\"].iloc[i]\n",
    "\n",
    " \n",
    "\n",
    "    R_on = np.stack([I_s_on_or, Q_s_on_or, I_i_on_or, Q_i_on_or])\n",
    "    R_off = np.stack([I_s_off_or, Q_s_off_or, I_i_off_or, Q_i_off_or])\n",
    "\n",
    "    fs = frequencies[i] - 275e6\n",
    "    fi = frequencies[i] + 275e6\n",
    "    G_s = sqz.db_to_linear(sqz.gain_finder(file_csv, fs)[1]+10)  #74 dB 75\n",
    "    G_i = sqz.db_to_linear(sqz.gain_finder(file_csv, fi)[1]+10) #74 dB 75\n",
    "    \n",
    "    #f = [fs, fi]\n",
    "    #G = [G_s, G_i]\n",
    "\n",
    "    #change with iq_at_dut function\n",
    "    #perchè qui moltiplico subito per 1.6 e poi trovo il minimo della varianza?\n",
    "    #R_on, R_off = iq_at_dut(R_on, R_off, True, f, G, tau, Z)\n",
    "    for p in range(4):       # for each quadrature, using iq function, we reconstruct sqz.iq quadrature at dut output level\n",
    "        if p < 2:\n",
    "            R_on[p]= sqz.iq(R_on[p]*1.6, fs, G_s, tau, Z)\n",
    "            R_off[p]= sqz.iq(R_off[p]*1.6, fs, G_s, tau, Z)\n",
    "        else:\n",
    "            R_on[p]= sqz.iq(R_on[p]*1.6, fi, G_i, tau, Z)\n",
    "            R_off[p]= sqz.iq(R_off[p]*1.6, fi, G_i, tau, Z)\n",
    "\n",
    "    result = minimize(lambda theta: sqz.calculate_var1(theta,R_on,R_off), x0=[1], bounds=[(-np.pi, np.pi)])\n",
    "    #print(result.x[0])\n",
    "    theta_array[i] = result.x[0]"
   ]
  },
  {
   "cell_type": "code",
   "execution_count": null,
   "metadata": {},
   "outputs": [],
   "source": [
    "modulo_pi(theta_array)"
   ]
  },
  {
   "cell_type": "code",
   "execution_count": null,
   "metadata": {},
   "outputs": [],
   "source": [
    "modulo_pi(pump_dig_phase)"
   ]
  },
  {
   "cell_type": "code",
   "execution_count": null,
   "metadata": {},
   "outputs": [],
   "source": [
    "modulo_pi(2*theta_array-2*pump_dig_phase)"
   ]
  },
  {
   "cell_type": "markdown",
   "metadata": {},
   "source": [
    "Angles of delay of counterpump"
   ]
  },
  {
   "cell_type": "code",
   "execution_count": null,
   "metadata": {},
   "outputs": [],
   "source": [
    "str = [\"exp_1DNC_1DIG_2024-11-27_12-41\", \"exp_1DNC_1DIG_2024-11-27_12-43\", \"exp_1DNC_1DIG_2024-11-27_12-46\", \"exp_1DNC_1DIG_2024-11-27_12-48\", \"exp_1DNC_1DIG_2024-11-27_12-51\", \"exp_1DNC_1DIG_2024-11-27_12-53\", \"exp_1DNC_1DIG_2024-11-27_12-56\", \"exp_1DNC_1DIG_2024-11-27_12-58\", \"exp_1DNC_1DIG_2024-11-27_13-01\", \"exp_1DNC_1DIG_2024-11-27_13-03\", \"exp_1DNC_1DIG_2024-11-27_13-06\", \"exp_1DNC_1DIG_2024-11-27_13-08\", \"exp_1DNC_1DIG_2024-11-27_13-11\", \"exp_1DNC_1DIG_2024-11-27_13-13\", \"exp_1DNC_1DIG_2024-11-27_13-15\"]\n",
    "phases = np.zeros(15)\n",
    "\n",
    "for i in range(15):\n",
    "    file_demod = h5py.File(f\"F:\\Shared drives\\SuperQuElectronics\\Measurements\\\\2024\\QCS_API\\Squeezing_202411\\\\{str[i]}.hdf5\")\n",
    "    list(file_demod.attrs.keys())\n",
    "    file_demod.attrs[\"FPGAPostprocessing\"]\n",
    "    chan = file_demod.attrs[\"Program\"]\n",
    "    phases[i] = sqz.extract_values_from_list(sqz.extract_info(chan, 'Phase'))[1]\n",
    "\n",
    "\n",
    "phases"
   ]
  },
  {
   "cell_type": "code",
   "execution_count": null,
   "metadata": {},
   "outputs": [],
   "source": [
    "A = modulo_pi(((2*pump_dig_phase) - ((2*(theta_array)))))\n",
    "A"
   ]
  },
  {
   "cell_type": "code",
   "execution_count": null,
   "metadata": {},
   "outputs": [],
   "source": [
    "A%np.pi"
   ]
  },
  {
   "cell_type": "code",
   "execution_count": null,
   "metadata": {},
   "outputs": [],
   "source": [
    "plt.plot(frequencies,A)\n",
    "plt.show()"
   ]
  },
  {
   "cell_type": "code",
   "execution_count": null,
   "metadata": {},
   "outputs": [],
   "source": [
    "print(A)"
   ]
  },
  {
   "cell_type": "code",
   "execution_count": null,
   "metadata": {},
   "outputs": [],
   "source": [
    "import numpy as np\n",
    "from scipy.linalg import solve\n",
    "\n",
    "a = np.array([60,-2,-3,+1,+2,+3])\n",
    "phi = np.zeros((len(a),16))\n",
    "\n",
    "for k in range(len(a)):\n",
    "    # Inizializzazione\n",
    "    noto = np.zeros(16)  # Vettore dei termini noti\n",
    "    rand = np.random.uniform(low=-0.1, high=0.1, size=16)\n",
    "    vettore = np.full(16, 1)\n",
    "    pi = np.pi  # Pi greco per il modulo 2pi\n",
    "    delta_phi = a[k]\n",
    "\n",
    "    # Inizializza la matrice A (16x16) e il vettore b\n",
    "    matrix = np.zeros((16, 16))\n",
    "\n",
    "    # Popolare la matrice seguendo le regole\n",
    "    for i in range(15):  # Le prime 14 righe\n",
    "        matrix[i, i] = -1    # Elemento in posizione i\n",
    "        matrix[i, i+1] = 1   # Elemento in posizione i+1\n",
    "\n",
    "        noto[i] = rand[i]\n",
    "        #noto[i] = -A[i]  # Imposta i termini noti come -A[i]  #rand[i]#\n",
    "        #noto[i] = vettore[i]  # Imposta i termini noti come -A[i]  #rand[i]#\n",
    "\n",
    "    # L'ultima riga deve essere tutta uguale a 1\n",
    "    matrix[15, :] = 1\n",
    "    noto[15] = delta_phi#+2*np.pi*80  # Imposta l'ultimo termine noto\n",
    "\n",
    "    soluzioni = solve(matrix, noto)\n",
    "\n",
    "    # Estrai i valori delle variabili\n",
    "    phi[k] = soluzioni\n",
    "\n",
    "\n",
    "\n",
    "\n",
    "# Stampa la matrice e il vettore dei termini noti\n",
    "print(\"Matrice A:\")\n",
    "print(matrix)\n",
    "print(\"\\nVettore dei termini noti:\")\n",
    "print(noto)\n",
    "\n",
    "\n",
    "\n",
    "# Stampa le soluzioni\n",
    "print(\"\\nSoluzioni:\")\n",
    "print(phi)\n"
   ]
  },
  {
   "cell_type": "code",
   "execution_count": null,
   "metadata": {},
   "outputs": [],
   "source": [
    "import numpy as np\n",
    "from scipy.linalg import solve\n",
    "\n",
    "a = np.array([-3,-2,-1,0,+1,+2,+3])\n",
    "phi = np.zeros((len(a),16))\n",
    "\n",
    "for k in range(len(a)):\n",
    "    # Inizializzazione\n",
    "    noto = np.zeros(16)  # Vettore dei termini noti\n",
    "    rand = np.random.uniform(low=-np.pi/4, high=np.pi/4, size=16)\n",
    "    vettore = np.full(16, 0)\n",
    "    pi = np.pi  # Pi greco per il modulo 2pi\n",
    "    delta_phi = a[k]\n",
    "\n",
    "    # Inizializza la matrice A (16x16) e il vettore b\n",
    "    matrix = np.zeros((16, 16))\n",
    "\n",
    "    # Popolare la matrice seguendo le regole\n",
    "    for i in range(15):  # Le prime 14 righe\n",
    "        matrix[i, i] = -1    # Elemento in posizione i\n",
    "        matrix[i, i+1] = 1   # Elemento in posizione i+1\n",
    "\n",
    "        #noto[i] = rand[i]\n",
    "        #noto[i] = -A[i]  # Imposta i termini noti come -A[i]  #rand[i]#\n",
    "        noto[i] = vettore[i]  # Imposta i termini noti come -A[i]  #rand[i]#\n",
    "\n",
    "    # L'ultima riga deve essere tutta uguale a 1\n",
    "    matrix[15, 0] = 1\n",
    "    matrix[15, 15] = -1\n",
    "    matrix[15, 14] = -1\n",
    "    #matrix[15, 13] = 1\n",
    "    noto[15] = delta_phi#+2*np.pi*80  # Imposta l'ultimo termine noto\n",
    "\n",
    "    soluzioni = solve(matrix, noto)\n",
    "\n",
    "    # Estrai i valori delle variabili\n",
    "    phi[k] = soluzioni\n",
    "\n",
    "\n",
    "\n",
    "\n",
    "# Stampa la matrice e il vettore dei termini noti\n",
    "print(\"Matrice A:\")\n",
    "print(matrix)\n",
    "print(\"\\nVettore dei termini noti:\")\n",
    "print(noto)\n",
    "\n",
    "\n",
    "\n",
    "# Stampa le soluzioni\n",
    "print(\"\\nSoluzioni:\")\n",
    "print(phi)\n"
   ]
  },
  {
   "cell_type": "code",
   "execution_count": null,
   "metadata": {},
   "outputs": [],
   "source": [
    "plt.plot(np.linspace(4.4, 8.8, 16), (phi[0]), linestyle='', marker='o')\n",
    "plt.show()"
   ]
  },
  {
   "cell_type": "code",
   "execution_count": null,
   "metadata": {},
   "outputs": [],
   "source": [
    "plt.plot(np.linspace(4.4, 8.8, 16), (phi[0]%(2*np.pi)), linestyle='', marker='o')\n",
    "plt.show()"
   ]
  },
  {
   "cell_type": "code",
   "execution_count": null,
   "metadata": {},
   "outputs": [],
   "source": [
    "new_array = np.zeros((len(a), 16))  # Array di zeri (dimensione len(a) x 16)\n",
    "for i in range(len(a)):\n",
    "    new_array[i] = np.cumsum(phi[i])\n",
    "\n",
    "# Aggiungere un elemento nullo all'inizio di ogni riga\n",
    "new_array = np.hstack([np.zeros((len(a), 1)), new_array])"
   ]
  },
  {
   "cell_type": "code",
   "execution_count": null,
   "metadata": {},
   "outputs": [],
   "source": [
    "np.radians(4000)"
   ]
  },
  {
   "cell_type": "code",
   "execution_count": null,
   "metadata": {},
   "outputs": [],
   "source": [
    "import matplotlib.pyplot as plt\n",
    "import matplotlib as mpl\n",
    "\n",
    "freq = []\n",
    "for i in range(0, 17):\n",
    "    freq.append(f\"$\\mathbf{{f_{{{i}}}}}$\")\n",
    "\n",
    "mpl.rcParams['font.family'] = 'Times New Roman'\n",
    "mpl.rcParams['font.serif'] = ['Times New Roman']\n",
    "mpl.rcParams['mathtext.fontset'] = 'stix'  # per il supporto dei caratteri matematici\n",
    "#color = [\"red\",\"blue\",\"grey\"]\n",
    "for i in range(len(a)):\n",
    "    plt.plot(freq, new_array[i], label=f\"a/rad = {a[i]}\", marker = \".\")\n",
    "# plt.plot(np.linspace(4.4, 8.8, 16), new_array[1], label=f\"a/rad = {a[1]}\", marker = \".\")\n",
    "# plt.plot(np.linspace(4.4, 8.8, 16), new_array[2], label=f\"a/rad = {a[2]}\", marker = \".\")\n",
    "plt.xlabel(\"Frequency\", fontsize=20, fontweight='bold', color='black')\n",
    "plt.ylabel(\"$\\mathbf{(\\phi_{f}-\\phi_{0})}$/rad\", fontsize=20, fontweight='bold', color='black')\n",
    "ticks_pari = np.arange(0, 17, 2)  # Ticks solo per gli indici pari\n",
    "plt.xticks(ticks_pari,fontsize=18, fontweight='bold', color='black') \n",
    "plt.yticks(fontsize=15, fontweight='bold', color='black') \n",
    "plt.legend()\n",
    "plt.show()"
   ]
  },
  {
   "cell_type": "code",
   "execution_count": null,
   "metadata": {},
   "outputs": [],
   "source": [
    "i = 0"
   ]
  },
  {
   "cell_type": "code",
   "execution_count": null,
   "metadata": {},
   "outputs": [],
   "source": [
    "theta_array[i]"
   ]
  },
  {
   "cell_type": "code",
   "execution_count": null,
   "metadata": {},
   "outputs": [],
   "source": [
    "A[i]"
   ]
  },
  {
   "cell_type": "code",
   "execution_count": null,
   "metadata": {},
   "outputs": [],
   "source": [
    "theta_array"
   ]
  },
  {
   "cell_type": "code",
   "execution_count": null,
   "metadata": {},
   "outputs": [],
   "source": [
    "I_s_off_or = df[\"signal_pump_off_real\"].iloc[i]\n",
    "Q_s_off_or = df[\"signal_pump_off_imag\"].iloc[i]\n",
    "I_s_on_or = df[\"signal_pump_on_real\"].iloc[i]\n",
    "Q_s_on_or = df[\"signal_pump_on_imag\"].iloc[i]\n",
    "I_i_on_or = df[\"idler_pump_on_real\"].iloc[i]\n",
    "Q_i_on_or = df[\"idler_pump_on_imag\"].iloc[i]\n",
    "I_i_off_or = df[\"idler_pump_off_real\"].iloc[i]\n",
    "Q_i_off_or = df[\"idler_pump_off_imag\"].iloc[i]"
   ]
  },
  {
   "cell_type": "code",
   "execution_count": null,
   "metadata": {},
   "outputs": [],
   "source": [
    "# manipolo dati ruotandoli nle piano iq\n",
    "comp_s_off = I_s_off_or + 1j*Q_s_off_or\n",
    "comp_s_on = I_s_on_or + 1j*Q_s_on_or\n",
    "comp_i_on = I_i_on_or + 1j*Q_i_on_or\n",
    "comp_i_off = I_i_off_or + 1j*Q_i_off_or\n",
    "\n",
    "#theta = 0\n",
    "theta = theta_array[i]+np.pi\n",
    "#theta = -pump_dig_phase[i]\n",
    "delta_theta = np.radians(0)\n",
    "rot = np.exp(1j * theta)  # e^(i*theta)\n",
    "delta_rot = np.exp(1j * delta_theta)\n",
    "comp_s_off_rot = comp_s_off*rot\n",
    "comp_s_on_rot = comp_s_on*rot\n",
    "comp_i_off_rot = comp_i_off*rot*delta_rot\n",
    "comp_i_on_rot = comp_i_on*rot*delta_rot\n",
    "\n",
    "I_s_off = np.array(comp_s_off_rot.real)\n",
    "Q_s_off = np.array(comp_s_off_rot.imag)\n",
    "\n",
    "I_s_on = np.array(comp_s_on_rot.real)\n",
    "Q_s_on = np.array(comp_s_on_rot.imag)\n",
    "\n",
    "I_i_on = np.array(comp_i_on_rot.real)\n",
    "Q_i_on = np.array(comp_i_on_rot.imag)\n",
    "\n",
    "I_i_off = np.array(comp_i_off_rot.real)\n",
    "Q_i_off = np.array(comp_i_off_rot.imag)\n",
    "\n",
    "R_on = np.stack([I_s_on, Q_s_on, I_i_on, Q_i_on])\n",
    "R_off = np.stack([I_s_off, Q_s_off, I_i_off, Q_i_off])"
   ]
  },
  {
   "cell_type": "code",
   "execution_count": null,
   "metadata": {},
   "outputs": [],
   "source": [
    "#sostituire con\n",
    "#R_on, R_off = iq_at_dut(R_on, R_off, True, f, G, tau, Z)\n",
    "#per un codice più compatto\n",
    "for p in range(4):       # for each quadrature, using iq function, we reconstruct sqz.iq quadrature at dut output level\n",
    "    if p < 2:\n",
    "        R_on[p]= sqz.iq(R_on[p]*1.6, fs, G_s, tau, Z)\n",
    "        R_off[p]= sqz.iq(R_off[p]*1.6, fs, G_s, tau, Z)\n",
    "    else:\n",
    "        R_on[p]= sqz.iq(R_on[p]*1.6, fi, G_i, tau, Z)\n",
    "        R_off[p]= sqz.iq(R_off[p]*1.6, fi, G_i, tau, Z)"
   ]
  },
  {
   "cell_type": "code",
   "execution_count": null,
   "metadata": {},
   "outputs": [],
   "source": [
    "bin_edges = (-5, 5)  \n",
    "nbins=500\n",
    "vmin = -50  # Limite inferiore\n",
    "vmax = 50  # Limite superiore\n",
    "norm = TwoSlopeNorm(vmin=vmin, vcenter=0, vmax=vmax)  # Crea l'istanza di normalizzazione con vmin e vmax\n",
    "tick = 5\n",
    "\n",
    "fig = plt.figure(figsize=(8, 7.5)) # Crea il colorplot dell'istogramma 2D\n",
    "\n",
    "# x_mode1: bool, p_mode1: bool, x_mode2: bool, p_mode2: bool\n",
    "plt.subplot(2, 2, 1)  # 1 row, 2 columns, 2nd subplot\n",
    "plt.hist2d(R_on[0], R_on[1], bins=(nbins, nbins), range=(bin_edges,bin_edges), cmap='bwr', norm=norm,)\n",
    "plt.xlabel(\"$x_{son}$\", fontsize=15)\n",
    "plt.ylabel(\"$p_{son}$\", fontsize=15)\n",
    "plt.subplot(2, 2, 2)  # 1 row, 2 columns, 2nd subplot\n",
    "counts, xedges, yedges, im = plt.hist2d(R_on[2], R_on[3], bins=(nbins, nbins), range=(bin_edges,bin_edges), cmap='bwr', norm=norm,)\n",
    "plt.xlabel(\"$x_{ion}$\", fontsize=15)\n",
    "plt.ylabel(\"$p_{ion}$\", fontsize=15)\n",
    "plt.subplot(2, 2, 3)  # 1 row, 2 columns, 2nd subplot\n",
    "counts, xedges, yedges, im = plt.hist2d(R_off[0], R_off[1], bins=(nbins, nbins), range=(bin_edges,bin_edges), cmap='bwr', norm=norm,)\n",
    "plt.xlabel(\"$x_{soff}$\", fontsize=15)\n",
    "plt.ylabel(\"$p_{soff}$\", fontsize=15)\n",
    "plt.subplot(2, 2, 4)  # 1 row, 2 columns, 1st subplot\n",
    "counts, xedges, yedges, im = plt.hist2d(R_off[2], R_off[3], bins=(nbins, nbins), range=(bin_edges,bin_edges), cmap='bwr', norm=norm,)\n",
    "plt.xlabel(\"$x_{ioff}$\", fontsize=15)\n",
    "plt.ylabel(\"$p_{ioff}$\", fontsize=15)\n",
    "# Aggiunta di una colorbar personalizzata\n",
    "cbar_ax = fig.add_axes([1.05, 0.1, 0.02, 0.8])  # [x0, y0, width, height]\n",
    "cbar = fig.colorbar(im, cax=cbar_ax)\n",
    "cbar.set_label('Counts', fontsize=15)\n",
    "cbar.ax.tick_params(labelsize=12)\n",
    "plt.tight_layout()\n",
    "plt.show()"
   ]
  },
  {
   "cell_type": "markdown",
   "metadata": {},
   "source": [
    "Pump on - pump off istograms\n",
    "-----------------"
   ]
  },
  {
   "cell_type": "code",
   "execution_count": null,
   "metadata": {},
   "outputs": [],
   "source": [
    "bin_edges = (-5, 5)  \n",
    "nbins=200\n",
    "vmin = -0.01  # Limite inferiore\n",
    "vmax = 0.01  # Limite superiore\n",
    "norm = TwoSlopeNorm(vmin=vmin, vcenter=0, vmax=vmax)  # Crea l'istanza di normalizzazione con vmin e vmax\n",
    "tick = 5\n",
    "\n",
    "fig = plt.figure(figsize=(12, 7.5)) # Crea il colorplot dell'istogramma 2D\n",
    "\n",
    "# x_mode1: bool, p_mode1: bool, x_mode2: bool, p_mode2: bool\n",
    "plt.subplot(2, 3, 1)  # 1 row, 2 columns, 2nd subplot\n",
    "new_hist(R_on, R_off, nbins, bin_edges, norm, True, True, False, False,tick)\n",
    "plt.subplot(2, 3, 2)  # 1 row, 2 columns, 2nd subplot\n",
    "new_hist(R_on, R_off, nbins, bin_edges, norm, False, False, True, True,tick)\n",
    "plt.subplot(2, 3, 3)  # 1 row, 2 columns, 2nd subplot\n",
    "new_hist(R_on, R_off, nbins, bin_edges, norm, True, False, True, False,tick)\n",
    "plt.subplot(2, 3, 4)  # 1 row, 2 columns, 1st subplot\n",
    "new_hist(R_on, R_off, nbins, bin_edges, norm, False, True, True, False,tick)\n",
    "plt.subplot(2, 3, 5)  # 1 row, 2 columns, 2nd subplot\n",
    "new_hist(R_on, R_off, nbins, bin_edges, norm, True, False, False, True,tick)\n",
    "plt.subplot(2, 3, 6)  # 1 row, 2 columns, 2nd subplot\n",
    "g = new_hist(R_on, R_off, nbins, bin_edges, norm, False, True, False, True,tick)\n",
    "# Aggiunta di una colorbar personalizzata\n",
    "cbar_ax = fig.add_axes([1.05, 0.1, 0.02, 0.8])  # [x0, y0, width, height]\n",
    "cbar = fig.colorbar(g[3], cax=cbar_ax)\n",
    "cbar.set_label('Counts on - counts off [%]', fontsize=15)\n",
    "cbar.ax.tick_params(labelsize=12)\n",
    "plt.tight_layout()\n",
    "plt.show()"
   ]
  },
  {
   "cell_type": "code",
   "execution_count": null,
   "metadata": {},
   "outputs": [],
   "source": [
    "on = np.sqrt(R_on[0]**2 + R_on[1]**2)\n",
    "# Calcola la deviazione standard delle distanze\n",
    "std_deviation_on = np.std(on)\n",
    "\n",
    "off = np.sqrt(R_off[0]**2 + R_off[1]**2)\n",
    "# Calcola la deviazione standard delle distanze\n",
    "std_deviation_off = np.std(off)\n",
    "\n",
    "gain = std_deviation_on/std_deviation_off\n",
    "gain"
   ]
  },
  {
   "cell_type": "code",
   "execution_count": null,
   "metadata": {},
   "outputs": [],
   "source": [
    "on = np.sqrt(R_on[2]**2 + R_on[3]**2)\n",
    "# Calcola la deviazione standard delle distanze\n",
    "std_deviation_on = np.std(on)\n",
    "\n",
    "off = np.sqrt(R_off[2]**2 + R_off[3]**2)\n",
    "# Calcola la deviazione standard delle distanze\n",
    "std_deviation_off = np.std(off)\n",
    "\n",
    "gain = std_deviation_on/std_deviation_off\n",
    "gain"
   ]
  },
  {
   "cell_type": "markdown",
   "metadata": {},
   "source": [
    "Thermal States Gaussianity\n",
    "---------------------"
   ]
  },
  {
   "cell_type": "code",
   "execution_count": null,
   "metadata": {},
   "outputs": [],
   "source": [
    "# x_mode1: bool, p_mode1: bool, x_mode2: bool, p_mode2: bool\n",
    "par = sqz.gaussianity_proj(R_off, True, False, True, False)\n",
    "sigma = par[2]\n",
    "print(sigma)"
   ]
  },
  {
   "cell_type": "markdown",
   "metadata": {},
   "source": [
    "Covariance matrix\n",
    "-----------------"
   ]
  },
  {
   "cell_type": "markdown",
   "metadata": {},
   "source": [
    "$\\sigma^{meas,on} = \\sigma _{|TMS>} + \\sigma _{thermal}$\n",
    "\n",
    "\n",
    "$\\sigma^{meas,off} = \\sigma _{|0>} + \\sigma _{thermal}$\n",
    "\n",
    "\n",
    "$\\sigma _{|TMS>} = \\sigma^{meas,on} - \\sigma^{meas,off} + \\sigma _{|0>}$\n",
    "\n",
    "Reference: https://arxiv.org/pdf/2111.03696"
   ]
  },
  {
   "cell_type": "code",
   "execution_count": null,
   "metadata": {},
   "outputs": [],
   "source": [
    "sigma_meas_on = sqz.cov_matrix(R_on)\n",
    "sigma_meas_off = sqz.cov_matrix(R_off)\n",
    "identita = 0.25*np.eye(4)\n",
    "sigma = sigma_meas_on-sigma_meas_off+identita\n",
    "sigma"
   ]
  },
  {
   "cell_type": "code",
   "execution_count": null,
   "metadata": {},
   "outputs": [],
   "source": [
    "labels = [\"$x_{s}$\", \"$p_{s}$\", \"$x_{i}$\", \"$p_{i}$\"]  # Etichette degli assi\n",
    "x, y = np.meshgrid(np.arange(sigma.shape[0]), np.arange(sigma.shape[1]))  # Creazione della griglia per l'istogramma 2D\n",
    "x = x.ravel()\n",
    "y = y.ravel()\n",
    "z = np.zeros_like(x)\n",
    "dz = sigma.ravel()   # Altezze delle barre (elementi della matrice di covarianza)\n",
    "dx = dy = 0.8  # Dimensioni delle barre\n",
    "colors = np.where(dz >= 0, 'red', 'blue')  # Creazione di una mappa di colori personalizzata per positivo/negativo\n",
    "alpha_values = np.where(dz >= 0, 0.8, 0.8)\n",
    "fig_cov_matrix = plt.figure(figsize=(8, 8))  # Creazione del plot 3D\n",
    "fig_cov_matrix.patch.set_alpha(0)  # Sfondo trasparente della figura\n",
    "ax = fig_cov_matrix.add_subplot(111, projection='3d')\n",
    "\n",
    "#bar_plot = ax.bar3d(x, y, z, dx, dy, dz, shade=True, color=colors, alpha = 1 , zsort='average')  # Grafico a barre 3D\n",
    "\n",
    "for xi, yi, zi, dzi, color, alpha in zip(x, y, z, dz, colors, alpha_values):\n",
    "    ax.bar3d(xi, yi, zi, dx, dy, dzi, shade=True, color=color, alpha=alpha, edgecolor='k',linewidth=1 ,zsort='average')\n",
    "\n",
    "\n",
    "\n",
    "ax.view_init(elev=30, azim=-140)  # Impostazione dell'angolo di vista\n",
    "#ax.set_zlabel('Covariance')  # Etichette degli assi\n",
    "ax.set_xticks(np.arange(len(labels)))\n",
    "ax.set_yticks(np.arange(len(labels)))\n",
    "ax.set_xticklabels(labels)\n",
    "ax.set_yticklabels(labels)\n",
    "cmap = LinearSegmentedColormap.from_list('red_blue', ['blue', 'red'], N=2)  # Creazione di una mappa di colori discreta (rosso/blu)\n",
    "norm = Normalize(vmin=-1, vmax=1)\n",
    "sm = cm.ScalarMappable(cmap=cmap, norm=norm)   # Aggiunta della barra colori\n",
    "sm.set_array([])  # Necessario per evitare avvisi\n",
    "#plt.title(\"Covariance Matrix\")  # Mostra il grafico\n",
    "plt.show()"
   ]
  },
  {
   "cell_type": "markdown",
   "metadata": {},
   "source": [
    "Squeezing\n",
    "----------"
   ]
  },
  {
   "cell_type": "markdown",
   "metadata": {},
   "source": [
    "Paragraph 4.5.2 Eichler PhD thesis"
   ]
  },
  {
   "cell_type": "code",
   "execution_count": null,
   "metadata": {},
   "outputs": [],
   "source": [
    "# X- = xs - xi\n",
    "# Var(X−Y)=Var(X)+Var(Y)−2⋅Cov(X,Y)\n",
    "var1 = sigma[0,0] + sigma[2,2] + (2*sigma[2,0])\n",
    "var1\n",
    "\n",
    "# P+ = ps + pi\n",
    "# Var(X+Y)=Var(X)+Var(Y)+2⋅Cov(X,Y)\n",
    "var2 = sigma[1,1] + sigma[3,3] + (2*sigma[1,3])\n",
    "var2\n",
    "\n",
    "sqz_x = 10*np.log((var1)/0.5)\n",
    "sqz_p = 10*np.log((var2)/0.5)\n",
    "\n",
    "print(sqz_x)\n",
    "print(sqz_p)"
   ]
  },
  {
   "cell_type": "markdown",
   "metadata": {},
   "source": [
    "Logarithmic negativity\n",
    "---------------"
   ]
  },
  {
   "cell_type": "code",
   "execution_count": null,
   "metadata": {},
   "outputs": [],
   "source": [
    "print(sqz.log_neg(sigma))"
   ]
  },
  {
   "cell_type": "markdown",
   "metadata": {},
   "source": [
    "Wigner function reconstruction\n",
    "----------------------"
   ]
  },
  {
   "cell_type": "markdown",
   "metadata": {},
   "source": [
    "For Gaussian states,\n",
    "\n",
    "$W(\\alpha) = \\frac{1}{4\\pi^2 \\sqrt{\\text{det}(V)}} \\exp \\left( -\\frac{1}{2} \\alpha V^{-1} \\alpha^T \\right)$\n",
    "\n",
    "Reference: https://journals.aps.org/prl/pdf/10.1103/PhysRevLett.107.113601\n"
   ]
  },
  {
   "cell_type": "code",
   "execution_count": null,
   "metadata": {},
   "outputs": [],
   "source": [
    "X_grid = Y_grid = np.linspace(-3, 3, 100)  # (X,Y) grid on which we compute Wigner function\n",
    "colors = [(0., 'darkblue'), (0.2, 'blue'), (0.4, 'skyblue'), (0.6, 'yellow'), (0.8, 'red'), (1., 'brown')] \n",
    "cmap = LinearSegmentedColormap.from_list('custom_cmap', colors)\n",
    "#cmap = 'viridis'\n",
    "vmin = 0.0    # colormap limits\n",
    "vmax= 0.23\n",
    "v = np.linspace(vmin,vmax,6)\n",
    "vcenter = vmax/2\n",
    "norm = TwoSlopeNorm(vmin=vmin,vcenter = vcenter, vmax=vmax)  # Crea l'istanza di normalizzazione con vmin e vmax\n",
    "up_ins = 2   # iset limits\n",
    "low_ins = -2\n",
    "\n",
    "fig = plt.figure(figsize=(12, 8))\n",
    "\n",
    "plt.subplot(2, 3, 1)    # ideal vacuum state\n",
    "xs,ps,xi,pi = True, True, False, False   # whether to project onto this dimension or not\n",
    "W_values_vac = sqz.wigner_proj(identita, X_grid, Y_grid, xs, ps, xi, pi)   # wigner function projection on the desired dimesnions on the grid\n",
    "sqz.wigner_plot('Ideal vacuum state', W_values_vac, cmap, X_grid, Y_grid, vmin, vmax, xs,ps,xi,pi)   # wigner function colorplot\n",
    "ax_inset = sqz.inset_constructor_2(low_ins, up_ins)\n",
    "sqz.level_curve(ax_inset,identita, xs,ps,xi,pi,\"blue\",3)\n",
    "\n",
    "plt.subplot(2, 3, 4)   # ideal thermal state\n",
    "T = 0.15  # temperature of thermal state\n",
    "V_the = (2*sqz.N(fs,T)+1)*identita\n",
    "xs,ps,xi,pi = True, True, False, False\n",
    "W_values_the = sqz.wigner_proj(V_the ,X_grid, Y_grid, xs,ps,xi,pi)\n",
    "g = sqz.wigner_plot('Ideal thermal state', W_values_the, cmap, X_grid, Y_grid, vmin, vmax,xs,ps,xi,pi)\n",
    "#sqz.inset_constructor_2(X_grid, Y_grid,V_the,xs,ps,xi,pi, low_ins, up_ins, 'green',3)\n",
    "ax_inset = sqz.inset_constructor_2(low_ins, up_ins)\n",
    "sqz.level_curve(ax_inset,V_the, xs,ps,xi,pi,\"green\",3)\n",
    "\n",
    "plt.subplot(2, 3, 2)  # Reconstructed state xs ps\n",
    "xs,ps,xi,pi = True, True, False, False\n",
    "V_the = (2*sqz.N(fs,T)+1)*identita\n",
    "W_values = sqz.wigner_proj(sigma,X_grid, Y_grid, xs,ps,xi,pi)\n",
    "sqz.wigner_plot('Reconstructed state', W_values, cmap, X_grid, Y_grid, vmin, vmax,xs,ps,xi,pi)\n",
    "ax_inset = sqz.inset_constructor_2(low_ins, up_ins)\n",
    "sqz.level_curve(ax_inset,identita, xs,ps,xi,pi,\"blue\",3)\n",
    "sqz.level_curve(ax_inset,V_the, xs,ps,xi,pi,\"green\",3)\n",
    "sqz.level_curve(ax_inset,sigma, xs,ps,xi,pi,\"red\",3)\n",
    "\n",
    "plt.subplot(2, 3, 5)  # Reconstructed state xi pi\n",
    "xs,ps,xi,pi = False, False, True, True\n",
    "V_the = (2*sqz.N(fi,T)+1)*identita\n",
    "W_values = sqz.wigner_proj(sigma, X_grid, Y_grid,xs,ps,xi,pi)\n",
    "sqz.wigner_plot('Reconstructed state', W_values, cmap, X_grid, Y_grid, vmin, vmax,xs,ps,xi,pi)\n",
    "ax_inset = sqz.inset_constructor_2(low_ins, up_ins)\n",
    "sqz.level_curve(ax_inset,identita, xs,ps,xi,pi,\"blue\",3)\n",
    "sqz.level_curve(ax_inset,V_the, xs,ps,xi,pi,\"green\",3)\n",
    "sqz.level_curve(ax_inset,sigma, xs,ps,xi,pi,\"red\",3)\n",
    "\n",
    "plt.subplot(2, 3, 3)  # Reconstructed state xs xi\n",
    "xs,ps,xi,pi = True, False, True, False\n",
    "V_the = (2*sqz.N(fs,T)+1)*identita\n",
    "W_values = sqz.wigner_proj(sigma, X_grid, Y_grid,xs,ps,xi,pi)\n",
    "sqz.wigner_plot('Reconstructed state', W_values, cmap,X_grid, Y_grid, vmin, vmax,xs,ps,xi,pi)\n",
    "ax_inset = sqz.inset_constructor_2(low_ins, up_ins)\n",
    "sqz.level_curve(ax_inset,identita, xs,ps,xi,pi,\"blue\",3)\n",
    "sqz.level_curve(ax_inset,V_the, xs,ps,xi,pi,\"green\",3)\n",
    "sqz.level_curve(ax_inset,sigma, xs,ps,xi,pi,\"red\",3)\n",
    "\n",
    "plt.subplot(2, 3, 6)  # Reconstructed state ps pi\n",
    "xs,ps,xi,pi = False, True, False, True\n",
    "W_values = sqz.wigner_proj(sigma, X_grid, Y_grid,xs,ps,xi,pi)\n",
    "sqz.wigner_plot('Reconstructed state', W_values, cmap, X_grid, Y_grid, vmin, vmax,xs,ps,xi,pi)\n",
    "ax_inset = sqz.inset_constructor_2(low_ins, up_ins)\n",
    "sqz.level_curve(ax_inset,identita, xs,ps,xi,pi,\"blue\",3)\n",
    "sqz.level_curve(ax_inset,V_the, xs,ps,xi,pi,\"green\",3)\n",
    "sqz.level_curve(ax_inset,sigma, xs,ps,xi,pi,\"red\",3)\n",
    "\n",
    "# Aggiunta di una colorbar personalizzata\n",
    "cbar_ax = fig.add_axes([1.05, 0.1, 0.02, 0.8])  # [x0, y0, width, height]\n",
    "# Aggiungere la colorbar\n",
    "cbar = fig.colorbar(g, cax=cbar_ax)\n",
    "cbar.ax.tick_params(labelsize=12)\n",
    "plt.tight_layout()\n",
    "plt.show()"
   ]
  },
  {
   "cell_type": "markdown",
   "metadata": {},
   "source": [
    "Thermal noise\n",
    "--------------"
   ]
  },
  {
   "cell_type": "code",
   "execution_count": null,
   "metadata": {},
   "outputs": [],
   "source": [
    "X_grid = Y_grid = np.linspace(-5, 5, 100)  # (X,Y) grid on which we compute Wigner function\n",
    "colors = [(0., 'darkblue'), (0.2, 'blue'), (0.4, 'skyblue'), (0.6, 'yellow'), (0.8, 'red'), (1., 'brown')] \n",
    "cmap = LinearSegmentedColormap.from_list('custom_cmap', colors)\n",
    "#cmap = 'viridis'\n",
    "vmin = 0.0    # colormap limits\n",
    "vmax= 0.001\n",
    "v = np.linspace(vmin,vmax,6)\n",
    "vcenter = vmax/2\n",
    "norm = TwoSlopeNorm(vmin=vmin,vcenter = vcenter, vmax=vmax)  # Crea l'istanza di normalizzazione con vmin e vmax\n",
    "up_ins = 5   # iset limits\n",
    "low_ins = -5\n",
    "\n",
    "fig = plt.figure(figsize=(12, 8))\n",
    "plt.subplot(2, 3, 1)    # ideal vacuum state\n",
    "xs,ps,xi,pi = True, True, False, False   # whether to project onto this dimension or not\n",
    "W_values_vac = sqz.wigner_proj((sigma_meas_off-identita), X_grid, Y_grid, xs, ps, xi, pi)   # wigner function projection on the desired dimensions on the grid\n",
    "g = sqz.wigner_plot('', W_values_vac, cmap, X_grid, Y_grid, vmin, vmax, xs,ps,xi,pi)   # wigner function colorplot\n",
    "ax_inset = sqz.inset_constructor_2(low_ins, up_ins)\n",
    "sqz.level_curve(ax_inset,(sigma_meas_off-identita), xs,ps,xi,pi,\"red\",3)\n",
    "T=3\n",
    "V_the = (2*sqz.N(fs,T)+1)*identita\n",
    "sqz.level_curve(ax_inset,V_the, xs,ps,xi,pi,\"green\",3)"
   ]
  },
  {
   "cell_type": "code",
   "execution_count": null,
   "metadata": {},
   "outputs": [],
   "source": [
    "X_grid = Y_grid = np.linspace(-3, 3, 100)  # (X,Y) grid on which we compute Wigner function\n",
    "colors = [(0., 'darkblue'), (0.2, 'blue'), (0.4, 'skyblue'), (0.6, 'yellow'), (0.8, 'red'), (1., 'brown')] \n",
    "cmap = LinearSegmentedColormap.from_list('custom_cmap', colors)\n",
    "#cmap = 'viridis'\n",
    "vmin = 0.0    # colormap limits\n",
    "vmax= 0.01\n",
    "v = np.linspace(vmin,vmax,6)\n",
    "vcenter = vmax/2\n",
    "norm = TwoSlopeNorm(vmin=vmin,vcenter = vcenter, vmax=vmax)  # Crea l'istanza di normalizzazione con vmin e vmax\n",
    "up_ins = 2   # iset limits\n",
    "low_ins = -2\n",
    "\n",
    "fig = plt.figure(figsize=(8, 8))\n",
    "\n",
    "\n",
    "plt.subplot(2, 2, 1)  # Reconstructed state xs ps\n",
    "T = 0.15\n",
    "xs,ps,xi,pi = True, True, False, False\n",
    "V_the = (2*sqz.N(fs,T)+1)*identita\n",
    "W_values = sqz.wigner_proj(sigma,X_grid, Y_grid, xs,ps,xi,pi)\n",
    "g = sqz.wigner_plot('Reconstructed state', W_values, cmap, X_grid, Y_grid, vmin, vmax,xs,ps,xi,pi)\n",
    "ax_inset = sqz.inset_constructor_2(low_ins, up_ins)\n",
    "sqz.level_curve(ax_inset,identita, xs,ps,xi,pi,\"blue\",3)\n",
    "sqz.level_curve(ax_inset,V_the, xs,ps,xi,pi,\"green\",3)\n",
    "sqz.level_curve(ax_inset,sigma, xs,ps,xi,pi,\"red\",3)\n",
    "\n",
    "plt.subplot(2, 2, 3)  # Reconstructed state xi pi\n",
    "xs,ps,xi,pi = False, False, True, True\n",
    "V_the = (2*sqz.N(fi,T)+1)*identita\n",
    "W_values = sqz.wigner_proj(sigma, X_grid, Y_grid,xs,ps,xi,pi)\n",
    "sqz.wigner_plot('Reconstructed state', W_values, cmap, X_grid, Y_grid, vmin, vmax,xs,ps,xi,pi)\n",
    "ax_inset = sqz.inset_constructor_2(low_ins, up_ins)\n",
    "sqz.level_curve(ax_inset,identita, xs,ps,xi,pi,\"blue\",3)\n",
    "sqz.level_curve(ax_inset,V_the, xs,ps,xi,pi,\"green\",3)\n",
    "sqz.level_curve(ax_inset,sigma, xs,ps,xi,pi,\"red\",3)\n",
    "\n",
    "plt.subplot(2, 2, 2)  # Reconstructed state xs xi\n",
    "xs,ps,xi,pi = True, False, True, False\n",
    "V_the = (2*sqz.N(fs,T)+1)*identita\n",
    "W_values = sqz.wigner_proj(sigma, X_grid, Y_grid,xs,ps,xi,pi)\n",
    "sqz.wigner_plot('Reconstructed state', W_values, cmap,X_grid, Y_grid, vmin, vmax,xs,ps,xi,pi)\n",
    "ax_inset = sqz.inset_constructor_2(low_ins, up_ins)\n",
    "sqz.level_curve(ax_inset,identita, xs,ps,xi,pi,\"blue\",3)\n",
    "sqz.level_curve(ax_inset,V_the, xs,ps,xi,pi,\"green\",3)\n",
    "sqz.level_curve(ax_inset,sigma, xs,ps,xi,pi,\"red\",3)\n",
    "\n",
    "plt.subplot(2, 2, 4)  # Reconstructed state ps pi\n",
    "xs,ps,xi,pi = False, True, False, True\n",
    "W_values = sqz.wigner_proj(sigma, X_grid, Y_grid,xs,ps,xi,pi)\n",
    "sqz.wigner_plot('Reconstructed state', W_values, cmap, X_grid, Y_grid, vmin, vmax,xs,ps,xi,pi)\n",
    "ax_inset = sqz.inset_constructor_2(low_ins, up_ins)\n",
    "sqz.level_curve(ax_inset,identita, xs,ps,xi,pi,\"blue\",3)\n",
    "sqz.level_curve(ax_inset,V_the, xs,ps,xi,pi,\"green\",3)\n",
    "sqz.level_curve(ax_inset,sigma, xs,ps,xi,pi,\"red\",3)\n",
    "\n",
    "# Aggiunta di una colorbar personalizzata\n",
    "cbar_ax = fig.add_axes([1.05, 0.1, 0.02, 0.8])  # [x0, y0, width, height]\n",
    "# Aggiungere la colorbar\n",
    "cbar = fig.colorbar(g, cax=cbar_ax)\n",
    "cbar.ax.tick_params(labelsize=12)\n",
    "plt.tight_layout()\n",
    "plt.show()"
   ]
  }
 ],
 "metadata": {
  "kernelspec": {
   "display_name": "base",
   "language": "python",
   "name": "python3"
  },
  "language_info": {
   "name": "python",
   "version": "3.11.7"
  }
 },
 "nbformat": 4,
 "nbformat_minor": 2
}
