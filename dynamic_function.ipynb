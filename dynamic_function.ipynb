{
 "cells": [
  {
   "cell_type": "code",
   "execution_count": 1,
   "metadata": {},
   "outputs": [],
   "source": [
    "import numpy as np\n",
    "import matplotlib.pyplot as plt"
   ]
  },
  {
   "cell_type": "code",
   "execution_count": 2,
   "metadata": {},
   "outputs": [],
   "source": [
    "#Dynamic Moving Average\n",
    "\n",
    "def moving_avg_dyn(data, min_window=5, max_window=20, threshold: float=2.0):\n",
    "    # Calcola la derivata\n",
    "    diff_data = np.abs(np.diff(data))\n",
    "\n",
    "    # Inizializza array per la media mobile dinamica\n",
    "    smoothed_data = np.zeros_like(data)\n",
    "\n",
    "    # Applica la media mobile con finestra variabile\n",
    "    for i in range(len(data)):\n",
    "        if i == 0:\n",
    "            window_size = min_window\n",
    "        else:\n",
    "            # Definisci la finestra in base alla variazione\n",
    "            if diff_data[i - 1] > threshold:\n",
    "                window_size = max_window\n",
    "            else:\n",
    "                window_size = min_window\n",
    "\n",
    "            # Assicurati che la finestra sia dispari\n",
    "            if window_size % 2 == 0:\n",
    "                window_size += 1\n",
    "\n",
    "        half_window = window_size // 2\n",
    "        start = max(0, i - half_window)\n",
    "        end = min(len(data), i + half_window + 1)\n",
    "        smoothed_data[i] = np.mean(data[start:end])\n",
    "\n",
    "    return smoothed_data"
   ]
  }
 ],
 "metadata": {
  "kernelspec": {
   "display_name": "base",
   "language": "python",
   "name": "python3"
  },
  "language_info": {
   "codemirror_mode": {
    "name": "ipython",
    "version": 3
   },
   "file_extension": ".py",
   "mimetype": "text/x-python",
   "name": "python",
   "nbconvert_exporter": "python",
   "pygments_lexer": "ipython3",
   "version": "3.11.7"
  }
 },
 "nbformat": 4,
 "nbformat_minor": 2
}
