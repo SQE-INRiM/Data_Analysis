{
 "cells": [
  {
   "cell_type": "code",
   "execution_count": null,
   "metadata": {},
   "outputs": [],
   "source": [
    "import numpy as np"
   ]
  },
  {
   "cell_type": "code",
   "execution_count": null,
   "metadata": {},
   "outputs": [],
   "source": [
    "# PADDED SIMPLE MOVING AVERAGE #\n",
    "\n",
    "def padded_moving_average(data, window=11):\n",
    "    #add data outside range to perform moving average on the first and last points\n",
    "    padded_data = np.pad(data, (window//2, window//2), mode='reflect')\n",
    "\n",
    "    #returns the smoothed function\n",
    "    return np.convolve(padded_data, np.ones(window)/window, mode=\"valid\")"
   ]
  }
 ],
 "metadata": {
  "kernelspec": {
   "display_name": "base",
   "language": "python",
   "name": "python3"
  },
  "language_info": {
   "codemirror_mode": {
    "name": "ipython",
    "version": 3
   },
   "file_extension": ".py",
   "mimetype": "text/x-python",
   "name": "python",
   "nbconvert_exporter": "python",
   "pygments_lexer": "ipython3",
   "version": "3.11.7"
  }
 },
 "nbformat": 4,
 "nbformat_minor": 2
}
